{
 "cells": [
  {
   "cell_type": "markdown",
   "metadata": {},
   "source": [
    "This notebook was created by Michael Scherbela for the purpose of teaching the first day of the ESI-DCAFM-TACO-VDSP Summer School 2022 on \"Machine Learning for Materials Hard and Soft\". After permission, I have used and adjusted this notebook as a material for the day two of the same event (made available in repository https://github.com/paloha/MLSummerSchoolVienna2022). The aim was to smoothly follow up on the work from the previous day. Not to confuse the students with yet another dataset and model. Changelog: Pavol Harar added saving of the trained models."
   ]
  },
  {
   "cell_type": "code",
   "execution_count": null,
   "metadata": {},
   "outputs": [],
   "source": [
    "from sklearn.datasets import load_digits\n",
    "from sklearn.model_selection import train_test_split\n",
    "from sklearn.pipeline import Pipeline\n",
    "from sklearn.naive_bayes import GaussianNB\n",
    "from sklearn.linear_model import LogisticRegression\n",
    "from sklearn.decomposition import PCA\n",
    "from sklearn.metrics import accuracy_score\n",
    "import numpy as np\n",
    "import matplotlib.pyplot as plt\n",
    "import pickle\n",
    "np.random.seed(1234)"
   ]
  },
  {
   "cell_type": "markdown",
   "metadata": {
    "pycharm": {
     "name": "#%% md\n"
    }
   },
   "source": [
    "For a first example, we will use a small dataset of 8x8 pixel images of handwritten digits."
   ]
  },
  {
   "cell_type": "code",
   "execution_count": null,
   "metadata": {
    "pycharm": {
     "name": "#%% Load and inspect the data\n"
    }
   },
   "outputs": [],
   "source": [
    "data = load_digits()\n",
    "X = data.images\n",
    "y = data.target\n",
    "print(f\"X.shape = {X.shape}\")\n",
    "print(f\"y.shape = {y.shape}\")\n",
    "\n",
    "n_rows, n_cols = 3, 5\n",
    "fig, axes = plt.subplots(n_rows, n_cols, figsize=(2*n_cols,2*n_rows), dpi=100)\n",
    "for row in range(n_rows):\n",
    "    for col in range(n_cols):\n",
    "        ind = np.random.randint(len(data.images))\n",
    "        axes[row][col].imshow(data.images[ind, ...], cmap='binary')\n",
    "        axes[row][col].axis(\"off\")\n",
    "        axes[row][col].set_title(str(data.target[ind]))\n",
    "fig.tight_layout()"
   ]
  },
  {
   "cell_type": "markdown",
   "metadata": {
    "pycharm": {
     "name": "#%% md\n"
    }
   },
   "source": [
    "To prepare the dataset, we flatten each 8x8 image into a 64-element vector.\n",
    "To avoid overfitting on the training set, we split the dataset in 2:\n",
    " - A training set, on which we will train our model\n",
    " - A test set, which we will use to test accuracy of our model on unseen data"
   ]
  },
  {
   "cell_type": "code",
   "execution_count": null,
   "metadata": {
    "pycharm": {
     "name": "#%% Prepare the data\n"
    }
   },
   "outputs": [],
   "source": [
    "X = X.reshape([-1, 64])\n",
    "X_train, X_test, y_train, y_test = train_test_split(X, y, train_size=1400)"
   ]
  },
  {
   "cell_type": "markdown",
   "metadata": {
    "pycharm": {
     "name": "#%% md\n"
    }
   },
   "source": [
    "All models in sckit-learn share a common interface:\n",
    "\n",
    "- A **fit()** function to train the model\n",
    "- A **predict()** function to evaluate the model on (new) data\n",
    "\n",
    "This makes it easy to quickly test different methods on the same dataset.\n"
   ]
  },
  {
   "cell_type": "markdown",
   "metadata": {
    "pycharm": {
     "name": "#%% md\n"
    }
   },
   "source": [
    "As a first model we will try a Naive Bayesian Classifier:\n",
    "It uses Bayes' Theorem and makes the following assumptions:\n",
    " - The input features are independent of each other\n",
    " - The individual likelihoods are Gaussian\n",
    "\n",
    "$$p(y|\\boldsymbol{x}) = \\frac{p(y) p(\\boldsymbol{x} | y)}{p(\\boldsymbol{x})} \\qquad $$\n",
    "\n",
    "$$p(\\boldsymbol{x} | y) \\stackrel{\\text{indep.}}{=} \\prod_i p(x_i | y) \\stackrel{\\text{Gauss.}}{=} \\prod_i e^{-\\frac{1}{2} \\left(\\frac{x_i-\\mu_{y,i}}{\\sigma_{y,i}} \\right)^2 }$$\n",
    "\n",
    "$$p(y|\\boldsymbol{x}) \\propto p_y\\, e^{-\\frac{1}{2}\\sum_i \\left(\\frac{x_i-\\mu_{y,i}}{\\sigma_{y,i}} \\right)^2 }$$\n",
    "\n",
    "Effectively this means for each class we get 2 matrices:\n",
    "\n",
    "- $\\mu_i$ containing the average pixel value of all training samples in that class\n",
    "- $\\sigma_i$ containing the standard devaiation of pixel values within that class\n"
   ]
  },
  {
   "cell_type": "code",
   "execution_count": null,
   "metadata": {
    "pycharm": {
     "name": "#%%\n"
    }
   },
   "outputs": [],
   "source": [
    "print(\"Naive Bayes classifier on raw data:\")\n",
    "model = GaussianNB()\n",
    "model.fit(X_train, y_train)\n",
    "\n",
    "def evaluate_model(trained_model):\n",
    "    y_pred_train = trained_model.predict(X_train)\n",
    "    y_pred_test = trained_model.predict(X_test)\n",
    "    acc_train = accuracy_score(y_train, y_pred_train)\n",
    "    acc_test = accuracy_score(y_test, y_pred_test)\n",
    "    print(f\"Training accuracy: {acc_train:.0%}\")\n",
    "    print(f\"Test accuracy    : {acc_test:.0%}\")\n",
    "    return y_pred_train, y_pred_test\n",
    "\n",
    "_,_ = evaluate_model(model)"
   ]
  },
  {
   "cell_type": "markdown",
   "metadata": {
    "pycharm": {
     "name": "#%% md\n"
    }
   },
   "source": [
    "Assuming that the individual pixel values are independent is apprently too naive.\n",
    "Let's instead calculate the PCA first and then apply naive Bayes on these transformed features.\n",
    "\n",
    "Since all sklearn models share the same interface, it is easy to chain them together into Pipelines, applying one data processing step after the other:"
   ]
  },
  {
   "cell_type": "code",
   "execution_count": null,
   "metadata": {
    "pycharm": {
     "name": "#%%\n"
    }
   },
   "outputs": [],
   "source": [
    "\n",
    "print(\"PCA + Naive Bayes classifier:\")\n",
    "model = Pipeline([('pca', PCA(n_components=10)),\n",
    "                  ('naive_bayes', GaussianNB())\n",
    "                  ])\n",
    "model.fit(X_train, y_train)\n",
    "_,_ = evaluate_model(model)\n",
    "\n",
    "# Save\n",
    "pickle.dump(model, open('pretrained_nb.model', 'wb'))"
   ]
  },
  {
   "cell_type": "markdown",
   "metadata": {
    "pycharm": {
     "name": "#%% md\n"
    }
   },
   "source": [
    "Lastly we can try a full linear model (logistic regression):\n",
    "\n",
    "$$ p(y | \\boldsymbol{x}) = \\frac{ \\exp(\\boldsymbol{w_y}^T \\boldsymbol{x})}{\\sum_{y'}\\exp(\\boldsymbol{w_{y'}}^T \\boldsymbol{x})}$$\n"
   ]
  },
  {
   "cell_type": "code",
   "execution_count": null,
   "metadata": {
    "pycharm": {
     "name": "#%%\n"
    }
   },
   "outputs": [],
   "source": [
    "print(\"Linear classifier on raw input data:\")\n",
    "model = LogisticRegression(C=0.005, max_iter=1000)\n",
    "model.fit(X_train, y_train)\n",
    "_, y_pred_test = evaluate_model(model)\n",
    "ind_wrong = (y_pred_test != y_test)\n",
    "\n",
    "n_rows = 2\n",
    "n_cols = 5\n",
    "fig, axes = plt.subplots(n_rows, n_cols, figsize=(2*n_cols,2*n_rows), dpi=100)\n",
    "for i, (img, y_true, y_pred) in enumerate(zip(X_test[ind_wrong],\n",
    "                                              y_test[ind_wrong],\n",
    "                                              y_pred_test[ind_wrong])):\n",
    "    if i >= (n_rows * n_cols):\n",
    "        break\n",
    "    ax = axes[i//n_cols][i%n_cols]\n",
    "    ax.imshow(img.reshape([8,8]), cmap='binary')\n",
    "    ax.set_title(f\"T: {y_true}, P: {y_pred}\")\n",
    "for ax in axes.flatten():\n",
    "    ax.axis(\"off\")\n",
    "fig.suptitle(\"Wrong predictions\")\n",
    "fig.tight_layout()\n",
    "\n",
    "# Save the model\n",
    "pickle.dump(model, open('pretrained_lr.model', 'wb'))"
   ]
  }
 ],
 "metadata": {
  "kernelspec": {
   "display_name": "Python 3",
   "language": "python",
   "name": "python3"
  },
  "language_info": {
   "codemirror_mode": {
    "name": "ipython",
    "version": 3
   },
   "file_extension": ".py",
   "mimetype": "text/x-python",
   "name": "python",
   "nbconvert_exporter": "python",
   "pygments_lexer": "ipython3",
   "version": "3.8.10"
  }
 },
 "nbformat": 4,
 "nbformat_minor": 1
}
